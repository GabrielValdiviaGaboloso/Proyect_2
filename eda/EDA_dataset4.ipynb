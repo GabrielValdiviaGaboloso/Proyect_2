{
  "cells": [
    {
      "cell_type": "markdown",
      "metadata": {},
      "source": [
        "**Acerca del conjunto de datos**\n",
        "\n",
        "Los Premios Grammy, celebrados por primera vez en 1959, son premios otorgados por la Academia de la Grabación de los Estados Unidos para reconocer logros destacados en la música.\n",
        "\n",
        "He notado que falta una cantidad significativa de información en los conjuntos de datos relacionados de Kaggle. Esto podría deberse a que el raspador web del usuario era demasiado simple y omitía cualquier dato que requiriera clics, o a que la información simplemente no aparece en el sitio web oficial de los Premios Grammy.\n",
        "\n",
        "Así que me tomé mi tiempo diseñando un scraper en Python (que subiré más adelante) y consulté artículos de Wikipedia para completar la información faltante. Ahora lo he subido para mi propio uso y para cualquier otra persona interesada en la historia de la música popular."
      ]
    },
    {
      "cell_type": "markdown",
      "metadata": {},
      "source": [
        "**Importaciones**"
      ]
    },
    {
      "cell_type": "code",
      "execution_count": 5,
      "metadata": {},
      "outputs": [],
      "source": [
        "# 📦 Librerías estándar\n",
        "import os\n",
        "\n",
        "# 📊 Visualización\n",
        "import matplotlib.pyplot as plt\n",
        "import seaborn as sns\n",
        "\n",
        "\n",
        "# 🧪 Scikit-learn\n",
        "from sklearn.compose import ColumnTransformer\n",
        "from sklearn.ensemble import RandomForestClassifier, RandomForestRegressor\n",
        "from sklearn.impute import SimpleImputer\n",
        "from sklearn.linear_model import LinearRegression, LogisticRegression\n",
        "from sklearn.metrics import (accuracy_score,\n",
        "    auc,\n",
        "    classification_report,\n",
        "    ConfusionMatrixDisplay,\n",
        "    confusion_matrix,\n",
        "    f1_score,\n",
        "    mean_squared_error,\n",
        "    precision_score,\n",
        "    recall_score,\n",
        "    roc_curve,\n",
        "    RocCurveDisplay,\n",
        "    r2_score,\n",
        ")\n",
        "from sklearn.model_selection import GridSearchCV, train_test_split\n",
        "from sklearn.multiclass import OneVsRestClassifier\n",
        "from sklearn.neighbors import KNeighborsClassifier, KNeighborsRegressor\n",
        "from sklearn.pipeline import Pipeline\n",
        "from sklearn.preprocessing import label_binarize, OneHotEncoder, StandardScaler\n",
        "from sklearn.tree import DecisionTreeClassifier, DecisionTreeRegressor\n",
        "\n",
        "# 💾 Guardado de modelos\n",
        "import joblib\n",
        "\n",
        "\n",
        "\n",
        "# 📐 Numpy y Pandas\n",
        "import numpy as np\n",
        "import pandas as pd"
      ]
    },
    {
      "cell_type": "markdown",
      "metadata": {},
      "source": [
        "**EDA**"
      ]
    },
    {
      "cell_type": "code",
      "execution_count": 6,
      "metadata": {},
      "outputs": [
        {
          "name": "stdout",
          "output_type": "stream",
          "text": [
            "<class 'pandas.core.frame.DataFrame'>\n",
            "RangeIndex: 61 entries, 0 to 60\n",
            "Data columns (total 8 columns):\n",
            " #   Column      Non-Null Count  Dtype \n",
            "---  ------      --------------  ----- \n",
            " 0   Year        61 non-null     int64 \n",
            " 1   Ceremony    61 non-null     int64 \n",
            " 2   Award ID    61 non-null     int64 \n",
            " 3   Award Type  61 non-null     object\n",
            " 4   Award Name  61 non-null     object\n",
            " 5   Work        61 non-null     object\n",
            " 6   Nominee     61 non-null     object\n",
            " 7   Winner      61 non-null     bool  \n",
            "dtypes: bool(1), int64(3), object(4)\n",
            "memory usage: 3.5+ KB\n"
          ]
        }
      ],
      "source": [
        "path = 'C:\\\\Users\\\\gvald\\\\Desktop\\\\Proyecto2\\\\datasets\\\\dataset4.csv'\n",
        "df = pd.read_csv(path)\n",
        "df.info()"
      ]
    },
    {
      "cell_type": "code",
      "execution_count": 7,
      "metadata": {},
      "outputs": [
        {
          "data": {
            "text/html": [
              "<div>\n",
              "<style scoped>\n",
              "    .dataframe tbody tr th:only-of-type {\n",
              "        vertical-align: middle;\n",
              "    }\n",
              "\n",
              "    .dataframe tbody tr th {\n",
              "        vertical-align: top;\n",
              "    }\n",
              "\n",
              "    .dataframe thead th {\n",
              "        text-align: right;\n",
              "    }\n",
              "</style>\n",
              "<table border=\"1\" class=\"dataframe\">\n",
              "  <thead>\n",
              "    <tr style=\"text-align: right;\">\n",
              "      <th></th>\n",
              "      <th>Year</th>\n",
              "      <th>Ceremony</th>\n",
              "      <th>Award ID</th>\n",
              "      <th>Award Type</th>\n",
              "      <th>Award Name</th>\n",
              "      <th>Work</th>\n",
              "      <th>Nominee</th>\n",
              "      <th>Winner</th>\n",
              "    </tr>\n",
              "  </thead>\n",
              "  <tbody>\n",
              "    <tr>\n",
              "      <th>0</th>\n",
              "      <td>2019</td>\n",
              "      <td>62</td>\n",
              "      <td>686</td>\n",
              "      <td>Nominee</td>\n",
              "      <td>Producer Of The Year, Non-Classical</td>\n",
              "      <td>• Almost Free (Fidlar) (A) • Burning (Maggie R...</td>\n",
              "      <td>Ricky Reed</td>\n",
              "      <td>False</td>\n",
              "    </tr>\n",
              "    <tr>\n",
              "      <th>1</th>\n",
              "      <td>2019</td>\n",
              "      <td>62</td>\n",
              "      <td>686</td>\n",
              "      <td>Nominee</td>\n",
              "      <td>Producer Of The Year, Non-Classical</td>\n",
              "      <td>• Arizona Baby (Kevin Abstract) (A) • Lover (T...</td>\n",
              "      <td>Jack Antonoff</td>\n",
              "      <td>False</td>\n",
              "    </tr>\n",
              "    <tr>\n",
              "      <th>2</th>\n",
              "      <td>2019</td>\n",
              "      <td>62</td>\n",
              "      <td>686</td>\n",
              "      <td>Nominee</td>\n",
              "      <td>Producer Of The Year, Non-Classical</td>\n",
              "      <td>• Heat Of The Summer (Young The Giant) (T) • H...</td>\n",
              "      <td>John Hill</td>\n",
              "      <td>False</td>\n",
              "    </tr>\n",
              "    <tr>\n",
              "      <th>3</th>\n",
              "      <td>2019</td>\n",
              "      <td>62</td>\n",
              "      <td>686</td>\n",
              "      <td>Nominee</td>\n",
              "      <td>Producer Of The Year, Non-Classical</td>\n",
              "      <td>• The Angels In Heaven Done Signed My Name (Le...</td>\n",
              "      <td>Dan Auerbach</td>\n",
              "      <td>False</td>\n",
              "    </tr>\n",
              "    <tr>\n",
              "      <th>4</th>\n",
              "      <td>2019</td>\n",
              "      <td>62</td>\n",
              "      <td>686</td>\n",
              "      <td>Nominee</td>\n",
              "      <td>Producer Of The Year, Non-Classical</td>\n",
              "      <td>• When We Fall Asleep, Where Do We Go? (Billie...</td>\n",
              "      <td>Finneas</td>\n",
              "      <td>True</td>\n",
              "    </tr>\n",
              "  </tbody>\n",
              "</table>\n",
              "</div>"
            ],
            "text/plain": [
              "   Year  Ceremony  Award ID Award Type                           Award Name  \\\n",
              "0  2019        62       686    Nominee  Producer Of The Year, Non-Classical   \n",
              "1  2019        62       686    Nominee  Producer Of The Year, Non-Classical   \n",
              "2  2019        62       686    Nominee  Producer Of The Year, Non-Classical   \n",
              "3  2019        62       686    Nominee  Producer Of The Year, Non-Classical   \n",
              "4  2019        62       686    Nominee  Producer Of The Year, Non-Classical   \n",
              "\n",
              "                                                Work        Nominee  Winner  \n",
              "0  • Almost Free (Fidlar) (A) • Burning (Maggie R...     Ricky Reed   False  \n",
              "1  • Arizona Baby (Kevin Abstract) (A) • Lover (T...  Jack Antonoff   False  \n",
              "2  • Heat Of The Summer (Young The Giant) (T) • H...      John Hill   False  \n",
              "3  • The Angels In Heaven Done Signed My Name (Le...   Dan Auerbach   False  \n",
              "4  • When We Fall Asleep, Where Do We Go? (Billie...        Finneas    True  "
            ]
          },
          "execution_count": 7,
          "metadata": {},
          "output_type": "execute_result"
        }
      ],
      "source": [
        "df.head()"
      ]
    },
    {
      "cell_type": "code",
      "execution_count": 8,
      "metadata": {},
      "outputs": [
        {
          "data": {
            "text/html": [
              "<div>\n",
              "<style scoped>\n",
              "    .dataframe tbody tr th:only-of-type {\n",
              "        vertical-align: middle;\n",
              "    }\n",
              "\n",
              "    .dataframe tbody tr th {\n",
              "        vertical-align: top;\n",
              "    }\n",
              "\n",
              "    .dataframe thead th {\n",
              "        text-align: right;\n",
              "    }\n",
              "</style>\n",
              "<table border=\"1\" class=\"dataframe\">\n",
              "  <thead>\n",
              "    <tr style=\"text-align: right;\">\n",
              "      <th></th>\n",
              "      <th>Year</th>\n",
              "      <th>Ceremony</th>\n",
              "      <th>Award ID</th>\n",
              "    </tr>\n",
              "  </thead>\n",
              "  <tbody>\n",
              "    <tr>\n",
              "      <th>count</th>\n",
              "      <td>61.000000</td>\n",
              "      <td>61.000000</td>\n",
              "      <td>61.000000</td>\n",
              "    </tr>\n",
              "    <tr>\n",
              "      <th>mean</th>\n",
              "      <td>2021.540984</td>\n",
              "      <td>64.540984</td>\n",
              "      <td>687.016393</td>\n",
              "    </tr>\n",
              "    <tr>\n",
              "      <th>std</th>\n",
              "      <td>1.737563</td>\n",
              "      <td>1.737563</td>\n",
              "      <td>1.008163</td>\n",
              "    </tr>\n",
              "    <tr>\n",
              "      <th>min</th>\n",
              "      <td>2019.000000</td>\n",
              "      <td>62.000000</td>\n",
              "      <td>686.000000</td>\n",
              "    </tr>\n",
              "    <tr>\n",
              "      <th>25%</th>\n",
              "      <td>2020.000000</td>\n",
              "      <td>63.000000</td>\n",
              "      <td>686.000000</td>\n",
              "    </tr>\n",
              "    <tr>\n",
              "      <th>50%</th>\n",
              "      <td>2022.000000</td>\n",
              "      <td>65.000000</td>\n",
              "      <td>688.000000</td>\n",
              "    </tr>\n",
              "    <tr>\n",
              "      <th>75%</th>\n",
              "      <td>2023.000000</td>\n",
              "      <td>66.000000</td>\n",
              "      <td>688.000000</td>\n",
              "    </tr>\n",
              "    <tr>\n",
              "      <th>max</th>\n",
              "      <td>2024.000000</td>\n",
              "      <td>67.000000</td>\n",
              "      <td>688.000000</td>\n",
              "    </tr>\n",
              "  </tbody>\n",
              "</table>\n",
              "</div>"
            ],
            "text/plain": [
              "              Year   Ceremony    Award ID\n",
              "count    61.000000  61.000000   61.000000\n",
              "mean   2021.540984  64.540984  687.016393\n",
              "std       1.737563   1.737563    1.008163\n",
              "min    2019.000000  62.000000  686.000000\n",
              "25%    2020.000000  63.000000  686.000000\n",
              "50%    2022.000000  65.000000  688.000000\n",
              "75%    2023.000000  66.000000  688.000000\n",
              "max    2024.000000  67.000000  688.000000"
            ]
          },
          "execution_count": 8,
          "metadata": {},
          "output_type": "execute_result"
        }
      ],
      "source": [
        "df.describe()"
      ]
    },
    {
      "cell_type": "code",
      "execution_count": 9,
      "metadata": {},
      "outputs": [
        {
          "data": {
            "text/plain": [
              "Year          0\n",
              "Ceremony      0\n",
              "Award ID      0\n",
              "Award Type    0\n",
              "Award Name    0\n",
              "Work          0\n",
              "Nominee       0\n",
              "Winner        0\n",
              "dtype: int64"
            ]
          },
          "execution_count": 9,
          "metadata": {},
          "output_type": "execute_result"
        }
      ],
      "source": [
        "df.isna().sum() "
      ]
    },
    {
      "cell_type": "code",
      "execution_count": 10,
      "metadata": {},
      "outputs": [
        {
          "data": {
            "text/plain": [
              "Year          0\n",
              "Ceremony      0\n",
              "Award ID      0\n",
              "Award Type    0\n",
              "Award Name    0\n",
              "Work          0\n",
              "Nominee       0\n",
              "Winner        0\n",
              "dtype: int64"
            ]
          },
          "execution_count": 10,
          "metadata": {},
          "output_type": "execute_result"
        }
      ],
      "source": [
        "(df == '?').sum()"
      ]
    },
    {
      "cell_type": "code",
      "execution_count": 12,
      "metadata": {},
      "outputs": [],
      "source": [
        "df.columns = df.columns.str.lower().str.strip().str.replace(\" \", \"_\")"
      ]
    },
    {
      "cell_type": "code",
      "execution_count": 17,
      "metadata": {},
      "outputs": [
        {
          "data": {
            "text/plain": [
              "year          0\n",
              "ceremony      0\n",
              "award_id      0\n",
              "award_type    0\n",
              "award_name    0\n",
              "work          0\n",
              "nominee       0\n",
              "winner        0\n",
              "dtype: int64"
            ]
          },
          "execution_count": 17,
          "metadata": {},
          "output_type": "execute_result"
        }
      ],
      "source": [
        "df.isnull().sum()"
      ]
    },
    {
      "cell_type": "code",
      "execution_count": 18,
      "metadata": {},
      "outputs": [
        {
          "data": {
            "text/plain": [
              "np.int64(0)"
            ]
          },
          "execution_count": 18,
          "metadata": {},
          "output_type": "execute_result"
        }
      ],
      "source": [
        "df.duplicated().sum()"
      ]
    },
    {
      "cell_type": "code",
      "execution_count": 19,
      "metadata": {},
      "outputs": [
        {
          "data": {
            "image/png": "[encoded data removed]",
            "text/plain": [
              "<Figure size 800x600 with 2 Axes>"
            ]
          },
          "metadata": {},
          "output_type": "display_data"
        }
      ],
      "source": [
        "df_num = df.select_dtypes(include=['int64', 'float64'])\n",
        "\n",
        "plt.figure(figsize=(8,6))\n",
        "corr = df_num.corr()\n",
        "sns.heatmap(corr, annot=True, cmap='coolwarm', fmt=\".2f\")\n",
        "plt.title('Mapa de calor de correlación entre variables numéricas')\n",
        "plt.show()"
      ]
    },
    {
      "cell_type": "code",
      "execution_count": 23,
      "metadata": {},
      "outputs": [
        {
          "name": "stdout",
          "output_type": "stream",
          "text": [
            "Index(['year', 'ceremony', 'award_id', 'award_type', 'award_name', 'work',\n",
            "       'nominee', 'winner'],\n",
            "      dtype='object')\n"
          ]
        }
      ],
      "source": [
        "df.rename(columns=lambda x: x.strip(), inplace=True)  # elimina espacios al inicio o final\n",
        "print(df.columns)"
      ]
    },
    {
      "cell_type": "code",
      "execution_count": 31,
      "metadata": {},
      "outputs": [
        {
          "data": {
            "image/png": "[encoded data removed]",
            "text/plain": [
              "<Figure size 600x600 with 1 Axes>"
            ]
          },
          "metadata": {},
          "output_type": "display_data"
        }
      ],
      "source": [
        "plt.figure(figsize=(6,6))\n",
        "df['winner'].value_counts().plot.pie(autopct='%1.1f%%', colors=['lightcoral', 'lightgreen'], labels=['No Ganador', 'Ganador'])\n",
        "plt.title('Proporción Ganadores vs No Ganadores')\n",
        "plt.ylabel('')\n",
        "plt.show()"
      ]
    },
    {
      "cell_type": "code",
      "execution_count": 32,
      "metadata": {},
      "outputs": [
        {
          "name": "stdout",
          "output_type": "stream",
          "text": [
            "<class 'pandas.core.frame.DataFrame'>\n",
            "RangeIndex: 61 entries, 0 to 60\n",
            "Data columns (total 8 columns):\n",
            " #   Column      Non-Null Count  Dtype \n",
            "---  ------      --------------  ----- \n",
            " 0   year        61 non-null     int64 \n",
            " 1   ceremony    61 non-null     int64 \n",
            " 2   award_id    61 non-null     int64 \n",
            " 3   award_type  61 non-null     object\n",
            " 4   award_name  61 non-null     object\n",
            " 5   work        61 non-null     object\n",
            " 6   nominee     61 non-null     object\n",
            " 7   winner      61 non-null     bool  \n",
            "dtypes: bool(1), int64(3), object(4)\n",
            "memory usage: 3.5+ KB\n"
          ]
        }
      ],
      "source": [
        "df.info()"
      ]
    }
  ],
  "metadata": {
    "colab": {
      "provenance": []
    },
    "kernelspec": {
      "display_name": "env",
      "language": "python",
      "name": "python3"
    },
    "language_info": {
      "codemirror_mode": {
        "name": "ipython",
        "version": 3
      },
      "file_extension": ".py",
      "mimetype": "text/x-python",
      "name": "python",
      "nbconvert_exporter": "python",
      "pygments_lexer": "ipython3",
      "version": "3.12.3"
    }
  },
  "nbformat": 4,
  "nbformat_minor": 0
}
